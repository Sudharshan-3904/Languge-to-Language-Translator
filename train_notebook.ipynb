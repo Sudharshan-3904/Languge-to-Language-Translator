{
 "cells": [
  {
   "cell_type": "markdown",
   "id": "e0464ec4",
   "metadata": {},
   "source": [
    "# Language-to-Language Translation Model Training\n",
    "\n",
    "This notebook demonstrates how to train a sequence-to-sequence translation model using Keras and TensorFlow, with GPU support if available.\n"
   ]
  },
  {
   "cell_type": "code",
   "execution_count": 3,
   "id": "d90d3f97",
   "metadata": {},
   "outputs": [
    {
     "name": "stdout",
     "output_type": "stream",
     "text": [
      "Num GPUs Available: 0\n"
     ]
    }
   ],
   "source": [
    "# GPU Setup and Library Imports\n",
    "import tensorflow as tf\n",
    "print(\"Num GPUs Available:\", len(tf.config.list_physical_devices('GPU')))\n",
    "gpus = tf.config.list_physical_devices('GPU')\n",
    "if gpus:\n",
    "    try:\n",
    "        for gpu in gpus:\n",
    "            tf.config.experimental.set_memory_growth(gpu, True)\n",
    "    except RuntimeError as e:\n",
    "        print(e)\n",
    "\n",
    "from numpy import array, argmax\n",
    "import pandas as pd\n",
    "from keras.models import Sequential\n",
    "from keras.layers import Dense, LSTM, Embedding, RepeatVector\n",
    "from tensorflow.keras.preprocessing.text import Tokenizer\n",
    "from keras.callbacks import ModelCheckpoint\n",
    "from keras.preprocessing.sequence import pad_sequences\n",
    "from keras.models import load_model\n",
    "from keras import optimizers\n",
    "from sklearn.model_selection import train_test_split\n",
    "import matplotlib.pyplot as plt"
   ]
  },
  {
   "cell_type": "code",
   "execution_count": 4,
   "id": "5c637d73",
   "metadata": {},
   "outputs": [
    {
     "data": {
      "text/plain": [
       "array([[<Axes: title={'center': 'eng'}>, <Axes: title={'center': 'sec'}>]],\n",
       "      dtype=object)"
      ]
     },
     "execution_count": 4,
     "metadata": {},
     "output_type": "execute_result"
    },
    {
     "data": {
      "image/png": "[encoded data removed]",
      "text/plain": [
       "<Figure size 640x480 with 2 Axes>"
      ]
     },
     "metadata": {},
     "output_type": "display_data"
    }
   ],
   "source": [
    "# Data Loading and Preprocessing\n",
    "\n",
    "def read_text(filename):\n",
    "    file = open(filename, mode='rt', encoding='utf-8')\n",
    "    text = file.read()\n",
    "    file.close()\n",
    "    return text\n",
    "\n",
    "def to_lines(text):\n",
    "    sents = text.strip().split('\\n')\n",
    "    sents = [i.split('\\t') for i in sents]\n",
    "    return sents\n",
    "\n",
    "data = read_text(r\"E:\\Data Sets\\bilingual-sentence-pairs\\fra.txt\")\n",
    "sec_eng = to_lines(data)\n",
    "sec_eng = array(sec_eng)\n",
    "sec_eng = sec_eng[:50000,:]\n",
    "\n",
    "for i in range(len(sec_eng)):\n",
    "    sec_eng[i,0] = sec_eng[i,0].lower()\n",
    "    sec_eng[i,1] = sec_eng[i,1].lower()\n",
    "\n",
    "eng_l = []\n",
    "sec_l = []\n",
    "for i in sec_eng[:,0]:\n",
    "    eng_l.append(len(i.split()))\n",
    "for i in sec_eng[:,1]:\n",
    "    sec_l.append(len(i.split()))\n",
    "length_df = pd.DataFrame({'eng':eng_l, 'sec':sec_l})\n",
    "length_df.hist(bins = 30)\n",
    "# plt.show()"
   ]
  },
  {
   "cell_type": "code",
   "execution_count": 5,
   "id": "139f1084",
   "metadata": {},
   "outputs": [
    {
     "name": "stdout",
     "output_type": "stream",
     "text": [
      "English Vocabulary Size: 6044\n",
      "Secondary Vocabulary Size: 12884\n",
      "Secondary Vocabulary Size: 12884\n"
     ]
    }
   ],
   "source": [
    "# Tokenization and Sequence Encoding\n",
    "\n",
    "def tokenization(lines):\n",
    "    tokenizer = Tokenizer()\n",
    "    tokenizer.fit_on_texts(lines)\n",
    "    return tokenizer\n",
    "\n",
    "eng_tokenizer = tokenization(sec_eng[:, 0])\n",
    "eng_vocab_size = len(eng_tokenizer.word_index) + 1\n",
    "eng_length = 8\n",
    "print('English Vocabulary Size: %d' % eng_vocab_size)\n",
    "\n",
    "sec_tokenizer = tokenization(sec_eng[:, 1])\n",
    "sec_vocab_size = len(sec_tokenizer.word_index) + 1\n",
    "sec_length = 8\n",
    "print('Secondary Vocabulary Size: %d' % sec_vocab_size)\n",
    "\n",
    "def encode_sequences(tokenizer, length, lines):\n",
    "    seq = tokenizer.texts_to_sequences(lines)\n",
    "    seq = pad_sequences(seq, maxlen=length, padding='post')\n",
    "    return seq\n",
    "\n",
    "train, test = train_test_split(sec_eng, test_size=0.2, random_state = 12)\n",
    "trainX = encode_sequences(sec_tokenizer, sec_length, train[:, 1])\n",
    "trainY = encode_sequences(eng_tokenizer, eng_length, train[:, 0])\n",
    "# prepare validation data\n",
    "testX = encode_sequences(sec_tokenizer, sec_length, test[:, 1])\n",
    "testY = encode_sequences(eng_tokenizer, eng_length, test[:, 0])"
   ]
  },
  {
   "cell_type": "code",
   "execution_count": null,
   "id": "f58e3657",
   "metadata": {},
   "outputs": [
    {
     "name": "stderr",
     "output_type": "stream",
     "text": [
      "c:\\Users\\sudha\\AppData\\Local\\Programs\\Python\\Python312\\Lib\\site-packages\\keras\\src\\layers\\core\\embedding.py:90: UserWarning: Argument `input_length` is deprecated. Just remove it.\n",
      "  warnings.warn(\n"
     ]
    }
   ],
   "source": [
    "# Model Definition and Compilation\n",
    "\n",
    "def define_model(in_vocab, out_vocab, in_timesteps, out_timesteps, units):\n",
    "    model = Sequential()\n",
    "    model.add(Embedding(in_vocab, units, input_length=in_timesteps, mask_zero=True))\n",
    "    model.add(LSTM(units))\n",
    "    model.add(RepeatVector(out_timesteps))\n",
    "    model.add(LSTM(units))\n",
    "    model.add(RepeatVector(out_timesteps))\n",
    "    model.add(LSTM(units))\n",
    "    model.add(RepeatVector(out_timesteps))\n",
    "    model.add(LSTM(units, return_sequences=True))\n",
    "    model.add(Dense(out_vocab, activation='softmax'))\n",
    "    return model\n",
    "\n",
    "from keras.optimizers import Adam\n",
    "model = define_model(sec_vocab_size, eng_vocab_size, sec_length, eng_length, 1024)\n",
    "rms = optimizers.RMSprop(learning_rate=0.005)\n",
    "model.compile(optimizer=rms, loss='sparse_categorical_crossentropy')"
   ]
  },
  {
   "cell_type": "code",
   "execution_count": null,
   "id": "28fbddbf",
   "metadata": {},
   "outputs": [
    {
     "name": "stdout",
     "output_type": "stream",
     "text": [
      "Epoch 1/150\n"
     ]
    }
   ],
   "source": [
    "# Model Training and Checkpointing\n",
    "\n",
    "from keras.callbacks import ModelCheckpoint\n",
    "filename = 'savepoints/model_savepoint.keras'\n",
    "checkpoint = ModelCheckpoint(filename, monitor='val_loss', verbose=1, save_best_only=True, mode='min')\n",
    "history = model.fit(trainX, trainY.reshape(trainY.shape[0], trainY.shape[1], 1),\n",
    "                    epochs=150, batch_size=512, validation_split = 0.2,callbacks=[checkpoint], \n",
    "                    verbose='auto')"
   ]
  },
  {
   "cell_type": "code",
   "execution_count": null,
   "id": "eb4b4ac2",
   "metadata": {},
   "outputs": [],
   "source": [
    "# Training Loss Visualization\n",
    "import matplotlib.pyplot as plt\n",
    "plt.plot(history.history['loss'])\n",
    "plt.plot(history.history['val_loss'])\n",
    "plt.legend(['train','validation'])\n",
    "# plt.show()"
   ]
  },
  {
   "cell_type": "code",
   "execution_count": null,
   "id": "8727ac9b",
   "metadata": {},
   "outputs": [],
   "source": [
    "# Model Evaluation and Prediction\n",
    "model = load_model('savepoints/model_savepoint.keras')\n",
    "pred_probs = model.predict(testX.reshape((testX.shape[0], testX.shape[1])))\n",
    "preds = argmax(pred_probs, axis=-1)\n",
    "\n",
    "def get_word(n, tokenizer):\n",
    "    for word, index in tokenizer.word_index.items():\n",
    "        if index == n:\n",
    "            return word\n",
    "    return None\n",
    "\n",
    "preds_text = []\n",
    "for i in preds:\n",
    "    temp = []\n",
    "    for j in range(len(i)):\n",
    "        t = get_word(i[j], eng_tokenizer)\n",
    "        if j > 0:\n",
    "            if (t == get_word(i[j-1], eng_tokenizer)) or (t == None):\n",
    "                temp.append('')\n",
    "            else:\n",
    "                temp.append(t)\n",
    "        else:\n",
    "            if(t == None):\n",
    "                temp.append('')\n",
    "            else:\n",
    "                temp.append(t) \n",
    "    preds_text.append(' '.join(temp))\n",
    "pred_df = pd.DataFrame({'actual' : test[:,0], 'predicted' : preds_text})\n",
    "pred_df.head(5)"
   ]
  }
 ],
 "metadata": {
  "kernelspec": {
   "display_name": "Python 3",
   "language": "python",
   "name": "python3"
  },
  "language_info": {
   "codemirror_mode": {
    "name": "ipython",
    "version": 3
   },
   "file_extension": ".py",
   "mimetype": "text/x-python",
   "name": "python",
   "nbconvert_exporter": "python",
   "pygments_lexer": "ipython3",
   "version": "3.12.10"
  }
 },
 "nbformat": 4,
 "nbformat_minor": 5
}
